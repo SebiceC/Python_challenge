{
 "cells": [
  {
   "cell_type": "markdown",
   "metadata": {
    "colab_type": "text",
    "id": "view-in-github"
   },
   "source": [
    "<a href=\"https://colab.research.google.com/github/juancasi/data_science_fundamentals/blob/master/chapter_04/numpy_challenge.ipynb\" target=\"_parent\"><img src=\"https://colab.research.google.com/assets/colab-badge.svg\" alt=\"Open In Colab\"/></a>"
   ]
  },
  {
   "cell_type": "markdown",
   "metadata": {
    "colab_type": "text",
    "id": "sVyBG_cKTAwL"
   },
   "source": [
    "#NumPy Challenge"
   ]
  },
  {
   "cell_type": "markdown",
   "metadata": {
    "colab_type": "text",
    "id": "NSnRQUO1RDEh"
   },
   "source": [
    "Create a NumPy ndarray object by using this list of numbers [7,8,4,5,1,2].\n"
   ]
  },
  {
   "cell_type": "code",
   "execution_count": 1,
   "metadata": {
    "colab": {},
    "colab_type": "code",
    "id": "P-2GBUw-Q60r"
   },
   "outputs": [
    {
     "name": "stdout",
     "output_type": "stream",
     "text": [
      "[7 8 4 5 1 2]\n"
     ]
    }
   ],
   "source": [
    "import numpy as np\n",
    "\n",
    "numbers_list = [7, 8, 4, 5, 1, 2]\n",
    "numbers_array = np.array(numbers_list)\n",
    "\n",
    "print(numbers_array)\n"
   ]
  },
  {
   "cell_type": "markdown",
   "metadata": {
    "colab_type": "text",
    "id": "zSoe7IVrQ9Gw"
   },
   "source": [
    "Using slicing print the elements from index 3 to the end of the array.\n",
    "\n"
   ]
  },
  {
   "cell_type": "code",
   "execution_count": 2,
   "metadata": {
    "colab": {},
    "colab_type": "code",
    "id": "XUVmHemyRM_K"
   },
   "outputs": [
    {
     "name": "stdout",
     "output_type": "stream",
     "text": [
      "[5 1 2]\n"
     ]
    }
   ],
   "source": [
    "numbers_list = [7, 8, 4, 5, 1, 2]\n",
    "numbers_array = np.array(numbers_list)\n",
    "sliced_array = numbers_array[3:]\n",
    "print(sliced_array)\n"
   ]
  },
  {
   "cell_type": "markdown",
   "metadata": {
    "colab_type": "text",
    "id": "DejW1hk-ROcM"
   },
   "source": [
    "Using slicing print all the elements except the last one.\n",
    "\n"
   ]
  },
  {
   "cell_type": "code",
   "execution_count": 3,
   "metadata": {
    "colab": {},
    "colab_type": "code",
    "id": "W-1sPgknSbQg"
   },
   "outputs": [
    {
     "name": "stdout",
     "output_type": "stream",
     "text": [
      "[7 8 4 5 1]\n"
     ]
    }
   ],
   "source": [
    "numbers_list = [7, 8, 4, 5, 1, 2]\n",
    "numbers_array = np.array(numbers_list)\n",
    "\n",
    "sliced_array = numbers_array[:-1]\n",
    "\n",
    "print(sliced_array)\n"
   ]
  },
  {
   "cell_type": "markdown",
   "metadata": {
    "colab_type": "text",
    "id": "kTE3PxezRSFu"
   },
   "source": [
    "Using slicing print the elements from index 1 to index 4 of the array.\n",
    "\n"
   ]
  },
  {
   "cell_type": "code",
   "execution_count": 4,
   "metadata": {
    "colab": {},
    "colab_type": "code",
    "id": "KyuRjCKBRWNO"
   },
   "outputs": [
    {
     "name": "stdout",
     "output_type": "stream",
     "text": [
      "[8 4 5 1]\n"
     ]
    }
   ],
   "source": [
    "numbers_list = [7, 8, 4, 5, 1, 2]\n",
    "numbers_array = np.array(numbers_list)\n",
    "\n",
    "\n",
    "sliced_array = numbers_array[1:5]\n",
    "\n",
    "print(sliced_array)\n"
   ]
  },
  {
   "cell_type": "markdown",
   "metadata": {
    "colab_type": "text",
    "id": "HlHIAmE3RW9U"
   },
   "source": [
    "Reshape the array into a 3 rows and 2 cols (3,2).\n",
    "\n"
   ]
  },
  {
   "cell_type": "code",
   "execution_count": 5,
   "metadata": {
    "colab": {},
    "colab_type": "code",
    "id": "Mh65VUorRZV6"
   },
   "outputs": [
    {
     "name": "stdout",
     "output_type": "stream",
     "text": [
      "[[7 8]\n",
      " [4 5]\n",
      " [1 2]]\n"
     ]
    }
   ],
   "source": [
    "numbers_list = [7, 8, 4, 5, 1, 2]\n",
    "numbers_array = np.array(numbers_list)\n",
    "\n",
    "reshaped_array = numbers_array.reshape(3, 2)\n",
    "\n",
    "print(reshaped_array)\n"
   ]
  },
  {
   "cell_type": "markdown",
   "metadata": {
    "colab_type": "text",
    "id": "7EA2AxnKRZ-B"
   },
   "source": [
    "Print all the array elements one by one (iterating).\n",
    "\n"
   ]
  },
  {
   "cell_type": "code",
   "execution_count": 6,
   "metadata": {
    "colab": {},
    "colab_type": "code",
    "id": "NA_5SBc9SFNn"
   },
   "outputs": [
    {
     "name": "stdout",
     "output_type": "stream",
     "text": [
      "7\n",
      "8\n",
      "4\n",
      "5\n",
      "1\n",
      "2\n"
     ]
    }
   ],
   "source": [
    "numbers_list = [7, 8, 4, 5, 1, 2]\n",
    "numbers_array = np.array(numbers_list)\n",
    "\n",
    "for element in numbers_array:\n",
    "    print(element)\n"
   ]
  },
  {
   "cell_type": "markdown",
   "metadata": {
    "colab_type": "text",
    "id": "gmDsX1y1RcsQ"
   },
   "source": [
    "Create a new NumPy ndarray object by using this list of numbers [0,6,9].\n",
    "\n"
   ]
  },
  {
   "cell_type": "code",
   "execution_count": 7,
   "metadata": {
    "colab": {},
    "colab_type": "code",
    "id": "VmE_QUleSD_P"
   },
   "outputs": [
    {
     "name": "stdout",
     "output_type": "stream",
     "text": [
      "[0 6 9]\n"
     ]
    }
   ],
   "source": [
    "new_numbers_list = [0, 6, 9]\n",
    "new_numbers_array = np.array(new_numbers_list)\n",
    "\n",
    "print(new_numbers_array)\n"
   ]
  },
  {
   "cell_type": "markdown",
   "metadata": {
    "colab_type": "text",
    "id": "jloT--lqRf7j"
   },
   "source": [
    "Join the two arrays.\n",
    "\n"
   ]
  },
  {
   "cell_type": "code",
   "execution_count": 8,
   "metadata": {
    "colab": {},
    "colab_type": "code",
    "id": "unD39X5dSDSn"
   },
   "outputs": [
    {
     "name": "stdout",
     "output_type": "stream",
     "text": [
      "[7 8 4 5 1 2 0 6 9]\n"
     ]
    }
   ],
   "source": [
    "numbers_list = [7, 8, 4, 5, 1, 2]\n",
    "new_numbers_list = [0, 6, 9]\n",
    "\n",
    "numbers_array = np.array(numbers_list)\n",
    "new_numbers_array = np.array(new_numbers_list)\n",
    "\n",
    "concatenated_array = np.concatenate((numbers_array, new_numbers_array))\n",
    "\n",
    "print(concatenated_array)\n"
   ]
  },
  {
   "cell_type": "markdown",
   "metadata": {
    "colab_type": "text",
    "id": "XfoeRhPERjPR"
   },
   "source": [
    "Using filtering print only the odd numbers of the joined array.\n",
    "\n"
   ]
  },
  {
   "cell_type": "code",
   "execution_count": 9,
   "metadata": {
    "colab": {},
    "colab_type": "code",
    "id": "Be-oEmWNSCKG"
   },
   "outputs": [
    {
     "name": "stdout",
     "output_type": "stream",
     "text": [
      "[7 5 1 9]\n"
     ]
    }
   ],
   "source": [
    "numbers_list = [7, 8, 4, 5, 1, 2]\n",
    "new_numbers_list = [0, 6, 9]\n",
    "\n",
    "numbers_array = np.array(numbers_list)\n",
    "new_numbers_array = np.array(new_numbers_list)\n",
    "\n",
    "concatenated_array = np.concatenate((numbers_array, new_numbers_array))\n",
    "\n",
    "odd_numbers = concatenated_array[concatenated_array % 2 != 0]\n",
    "\n",
    "print(odd_numbers)\n"
   ]
  },
  {
   "cell_type": "markdown",
   "metadata": {
    "colab_type": "text",
    "id": "cMZHbF4JRlwJ"
   },
   "source": [
    "Sort the joined array elements.\n",
    "\n"
   ]
  },
  {
   "cell_type": "code",
   "execution_count": 10,
   "metadata": {
    "colab": {},
    "colab_type": "code",
    "id": "d3ta_UTjSBb3"
   },
   "outputs": [
    {
     "name": "stdout",
     "output_type": "stream",
     "text": [
      "[0 1 2 4 5 6 7 8 9]\n"
     ]
    }
   ],
   "source": [
    "numbers_list = [7, 8, 4, 5, 1, 2]\n",
    "new_numbers_list = [0, 6, 9]\n",
    "\n",
    "numbers_array = np.array(numbers_list)\n",
    "new_numbers_array = np.array(new_numbers_list)\n",
    "\n",
    "concatenated_array = np.concatenate((numbers_array, new_numbers_array))\n",
    "\n",
    "sorted_array = np.sort(concatenated_array)\n",
    "\n",
    "print(sorted_array)\n"
   ]
  },
  {
   "cell_type": "markdown",
   "metadata": {
    "colab_type": "text",
    "id": "F0u9Tf_pRoKR"
   },
   "source": [
    "Store in an array the names of the months.\n",
    "\n"
   ]
  },
  {
   "cell_type": "code",
   "execution_count": 12,
   "metadata": {
    "colab": {},
    "colab_type": "code",
    "id": "a6trOwrmSAg6"
   },
   "outputs": [
    {
     "name": "stdout",
     "output_type": "stream",
     "text": [
      "['January' 'February' 'March' 'April' 'May' 'June' 'July' 'August'\n",
      " 'September' 'October' 'November' 'December']\n"
     ]
    }
   ],
   "source": [
    "month_names = np.array(['January', 'February', 'March', 'April', 'May', 'June', 'July', 'August', 'September', 'October', 'November', 'December'])\n",
    "\n",
    "print(month_names)\n"
   ]
  },
  {
   "cell_type": "markdown",
   "metadata": {
    "colab_type": "text",
    "id": "zMHje9-zRqrR"
   },
   "source": [
    "Split the months array in 4 periods of 3 elements each one.\n",
    "\n"
   ]
  },
  {
   "cell_type": "code",
   "execution_count": 11,
   "metadata": {
    "colab": {},
    "colab_type": "code",
    "id": "jht0_5-iR_xn"
   },
   "outputs": [
    {
     "name": "stdout",
     "output_type": "stream",
     "text": [
      "['January' 'February' 'March']\n",
      "\n",
      "['April' 'May' 'June']\n",
      "\n",
      "['July' 'August' 'September']\n",
      "\n",
      "['October' 'November' 'December']\n",
      "\n"
     ]
    }
   ],
   "source": [
    "month_names = np.array(['January', 'February', 'March', 'April', 'May', 'June', 'July', 'August', 'September', 'October', 'November', 'December'])\n",
    "\n",
    "split_periods = np.split(month_names, 4)\n",
    "\n",
    "for period in split_periods:\n",
    "    print(period)\n",
    "    print() \n"
   ]
  },
  {
   "cell_type": "markdown",
   "metadata": {
    "colab_type": "text",
    "id": "ukxoOg5rRtkJ"
   },
   "source": [
    "Create an array with genre information ['F','M','F','F','M','F'].\n",
    "\n"
   ]
  },
  {
   "cell_type": "code",
   "execution_count": 13,
   "metadata": {
    "colab": {},
    "colab_type": "code",
    "id": "GZLCMD2OR-4G"
   },
   "outputs": [
    {
     "name": "stdout",
     "output_type": "stream",
     "text": [
      "['F' 'M' 'F' 'F' 'M' 'F']\n"
     ]
    }
   ],
   "source": [
    "genre_info = np.array(['F', 'M', 'F', 'F', 'M', 'F'])\n",
    "\n",
    "print(genre_info)\n"
   ]
  },
  {
   "cell_type": "markdown",
   "metadata": {
    "colab_type": "text",
    "id": "VlLwuy-ERvzu"
   },
   "source": [
    "Find the indexes where the value is F.\n",
    "\n"
   ]
  },
  {
   "cell_type": "code",
   "execution_count": 14,
   "metadata": {
    "colab": {},
    "colab_type": "code",
    "id": "dx0LCoSAR9-w"
   },
   "outputs": [
    {
     "name": "stdout",
     "output_type": "stream",
     "text": [
      "(array([0, 2, 3, 5]),)\n"
     ]
    }
   ],
   "source": [
    "genre_info = np.array(['F', 'M', 'F', 'F', 'M', 'F'])\n",
    "\n",
    "indexes = np.where(genre_info == 'F')\n",
    "\n",
    "print(indexes)\n"
   ]
  },
  {
   "cell_type": "markdown",
   "metadata": {
    "colab_type": "text",
    "id": "y0Uk475sRytB"
   },
   "source": [
    "Store in an array the age information [18,20,19,23,19,20].\n",
    "\n"
   ]
  },
  {
   "cell_type": "code",
   "execution_count": 15,
   "metadata": {
    "colab": {},
    "colab_type": "code",
    "id": "tABLVP7gR9QP"
   },
   "outputs": [
    {
     "name": "stdout",
     "output_type": "stream",
     "text": [
      "[18 20 19 23 19 20]\n"
     ]
    }
   ],
   "source": [
    "age_info = np.array([18, 20, 19, 23, 19, 20])\n",
    "\n",
    "print(age_info)\n"
   ]
  },
  {
   "cell_type": "markdown",
   "metadata": {
    "colab_type": "text",
    "id": "D-VswLqJR05A"
   },
   "source": [
    "Create a filter array with values < 20.\n",
    "\n"
   ]
  },
  {
   "cell_type": "code",
   "execution_count": 16,
   "metadata": {
    "colab": {},
    "colab_type": "code",
    "id": "tk4jIi3pR8aZ"
   },
   "outputs": [
    {
     "name": "stdout",
     "output_type": "stream",
     "text": [
      "[ True False  True False  True False]\n"
     ]
    }
   ],
   "source": [
    "age_info = np.array([18, 20, 19, 23, 19, 20])\n",
    "\n",
    "filter_array = age_info < 20\n",
    "\n",
    "print(filter_array)\n"
   ]
  },
  {
   "cell_type": "markdown",
   "metadata": {
    "colab_type": "text",
    "id": "aiGbZbwHR3CJ"
   },
   "source": [
    "Change the 3 index element with a value of 22\n",
    "\n"
   ]
  },
  {
   "cell_type": "code",
   "execution_count": 17,
   "metadata": {
    "colab": {},
    "colab_type": "code",
    "id": "OMpH-wT6R7iK"
   },
   "outputs": [
    {
     "name": "stdout",
     "output_type": "stream",
     "text": [
      "[18 20 22 23 19 20]\n"
     ]
    }
   ],
   "source": [
    "age_info = np.array([18, 20, 19, 23, 19, 20])\n",
    "\n",
    "age_info[2] = 22\n",
    "\n",
    "print(age_info)\n"
   ]
  },
  {
   "cell_type": "markdown",
   "metadata": {
    "colab_type": "text",
    "id": "0DELnRV_R5Df"
   },
   "source": [
    "Print the 4 index element."
   ]
  },
  {
   "cell_type": "code",
   "execution_count": 18,
   "metadata": {
    "colab": {},
    "colab_type": "code",
    "id": "SOg99cxZR6ZX"
   },
   "outputs": [
    {
     "name": "stdout",
     "output_type": "stream",
     "text": [
      "23\n"
     ]
    }
   ],
   "source": [
    "age_info = np.array([18, 20, 22, 23, 19, 20])\n",
    "\n",
    "print(age_info[3])\n"
   ]
  },
  {
   "cell_type": "code",
   "execution_count": null,
   "metadata": {},
   "outputs": [],
   "source": []
  }
 ],
 "metadata": {
  "colab": {
   "authorship_tag": "ABX9TyM5c6TWwTOk1jmPIGy5uw2j",
   "collapsed_sections": [],
   "include_colab_link": true,
   "name": "numpy_challenge.ipynb",
   "provenance": []
  },
  "kernelspec": {
   "display_name": "Python 3 (ipykernel)",
   "language": "python",
   "name": "python3"
  },
  "language_info": {
   "codemirror_mode": {
    "name": "ipython",
    "version": 3
   },
   "file_extension": ".py",
   "mimetype": "text/x-python",
   "name": "python",
   "nbconvert_exporter": "python",
   "pygments_lexer": "ipython3",
   "version": "3.9.16"
  }
 },
 "nbformat": 4,
 "nbformat_minor": 1
}
